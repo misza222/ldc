{
 "cells": [
  {
   "cell_type": "markdown",
   "id": "83f63789",
   "metadata": {},
   "source": [
    "# Klasyfikacja opisów\n",
    "\n",
    "Klasyfikacja opisów badań obrazowych do 4 kategorii:\n",
    "- do kontroli       - brak zmian w płucach, występują inne zmiany\n",
    "- guzek do kontroli - zmiany w płucach,\n",
    "- guzek - guzki i guzy\n",
    "- negatywny - pacjent zdrowy"
   ]
  },
  {
   "cell_type": "code",
   "execution_count": 1,
   "id": "eeea8bde",
   "metadata": {},
   "outputs": [],
   "source": [
    "import pandas as pd"
   ]
  },
  {
   "cell_type": "markdown",
   "id": "df9ef504",
   "metadata": {},
   "source": [
    "import tabularycznych wyników badań"
   ]
  },
  {
   "cell_type": "code",
   "execution_count": 2,
   "id": "93e220b5",
   "metadata": {},
   "outputs": [],
   "source": [
    "df = pd.read_csv('./wynik.csv')"
   ]
  },
  {
   "cell_type": "code",
   "execution_count": 3,
   "id": "a72d0d8c",
   "metadata": {},
   "outputs": [
    {
     "data": {
      "text/plain": [
       "negatywny, tylko zmiany dodatkowe    511\n",
       "pozytywny do kontroli                431\n",
       "pozytywny                             40\n",
       "pozytywny, inne                        8\n",
       "negatywny                              5\n",
       "pozytywny, zmiany niemierzalne         2\n",
       "Name: wynik, dtype: int64"
      ]
     },
     "execution_count": 3,
     "metadata": {},
     "output_type": "execute_result"
    }
   ],
   "source": [
    "df.wynik.value_counts()"
   ]
  },
  {
   "cell_type": "markdown",
   "id": "f4f77d6c",
   "metadata": {},
   "source": [
    "### uproszczenie wyników\n",
    "\n",
    "Po konsultacji z radiologiem dokonaliśmy wsępnej klasyfikacji wyników"
   ]
  },
  {
   "cell_type": "code",
   "execution_count": 4,
   "id": "5e3ce396",
   "metadata": {},
   "outputs": [],
   "source": [
    "wyniki = {'negatywny, tylko zmiany dodatkowe': 'płuca zdrowe, tylko zmiany dodatkowe',# mozliwy dodatkowy klasyfikator kierujący do konkretnego specjalisty\n",
    "          'negatywny'                        : 'zdrowy', \n",
    "          'pozytywny do kontroli'            : 'guzek do kontroli', # kontrola zgodnie z wytycznymi (dodatkowy klasyfikator)\n",
    "          'pozytywny'                        : 'guzek/guz podejrzany', # skierowanie do onkologa\n",
    "          'pozytywny, inne'                  : 'guzek/guz podejrzany',  # skierowanie do onkologa\n",
    "          'pozytywny, zmiany niemierzalne'   : 'guzek/guz podejrzany'} # skierowanie do onkologa (cięzko oddzielić gdzie kończy się guz)"
   ]
  },
  {
   "cell_type": "code",
   "execution_count": 5,
   "id": "5a911e8a",
   "metadata": {},
   "outputs": [],
   "source": [
    "df['wynik_uproszczony'] = df['wynik'].apply(lambda x: wyniki[x])"
   ]
  },
  {
   "cell_type": "code",
   "execution_count": 6,
   "id": "8a40ea59",
   "metadata": {},
   "outputs": [
    {
     "data": {
      "text/plain": [
       "do kontroli          511\n",
       "guzek do kontroli    431\n",
       "guzek                 50\n",
       "negatywny              5\n",
       "Name: wynik_uproszczony, dtype: int64"
      ]
     },
     "execution_count": 6,
     "metadata": {},
     "output_type": "execute_result"
    }
   ],
   "source": [
    "df['wynik_uproszczony'].value_counts()"
   ]
  },
  {
   "cell_type": "markdown",
   "id": "5b84f5c0",
   "metadata": {},
   "source": [
    "### Wyciągamy opisy badań\n",
    "\n",
    "z plików tekstowych"
   ]
  },
  {
   "cell_type": "code",
   "execution_count": 7,
   "id": "7965349b",
   "metadata": {},
   "outputs": [],
   "source": [
    "def get_opis(ident):\n",
    "    filename = f\"opisy/{ident}.txt\"\n",
    "    with open(filename) as f:\n",
    "        content = f.readlines()\n",
    "        \n",
    "    return '\\n'.join(content)"
   ]
  },
  {
   "cell_type": "code",
   "execution_count": 25,
   "id": "9597504f",
   "metadata": {},
   "outputs": [],
   "source": [
    "assert len(get_opis('0050e201cce68367a62777cd6a68c52580825f75bf6f6a07dc9ab221bfde3e3f')) > 10"
   ]
  },
  {
   "cell_type": "code",
   "execution_count": 9,
   "id": "9d7ba91a",
   "metadata": {},
   "outputs": [],
   "source": [
    "df['opis'] = df['identyfikator'].apply(get_opis)"
   ]
  },
  {
   "cell_type": "markdown",
   "id": "7577bd1d",
   "metadata": {},
   "source": [
    "# Klasyfikacja opisów do kategorii\n",
    "\n",
    "Wykorzystano bibliotekę [fast.ai](https://docs.fast.ai/tutorial.text.html) i jej interfejs aplikacyjny z racji na prostotę użycia."
   ]
  },
  {
   "cell_type": "code",
   "execution_count": 26,
   "id": "b684fd7d",
   "metadata": {},
   "outputs": [],
   "source": [
    "from fastai.text.all import *"
   ]
  },
  {
   "cell_type": "code",
   "execution_count": 27,
   "id": "37cfe289",
   "metadata": {},
   "outputs": [],
   "source": [
    "df_for_model = df[['opis', 'wynik_uproszczony']].rename(columns={'wynik_uproszczony': 'result', 'opis': 'description'})\n",
    "\n",
    "dls = TextDataLoaders.from_df(df_for_model)"
   ]
  },
  {
   "cell_type": "code",
   "execution_count": 29,
   "id": "a41cdec5",
   "metadata": {},
   "outputs": [
    {
     "data": {
      "text/html": [
       "<table border=\"1\" class=\"dataframe\">\n",
       "  <thead>\n",
       "    <tr style=\"text-align: right;\">\n",
       "      <th></th>\n",
       "      <th>text</th>\n",
       "      <th>category</th>\n",
       "    </tr>\n",
       "  </thead>\n",
       "  <tbody>\n",
       "    <tr>\n",
       "      <th>0</th>\n",
       "      <td>xxbos wynik wątpliwy + zmiany dodatkowe . xxup tk xxup klp / xxunk . xxup xxunk bez kontrastu xxunk wykonano w ramach npzchn . xxmaj guzki : xxup s6l - wielkosci ok . 2 x 2 x 2 mm , owalany , równe zarysy , bez zwapnień , miąższowy . xxup s6p - wielkosci ok . 3 x 3 x 3 mm , owalany , równe zarysy , bez zwapnień , xxunk guzki niespecyficzne , najprawdopodobniej bliznowate / pozapalne . xxmaj zmiany dodatkowe : xxmaj drobny ok . 1 cm podopłucnowy pęcherz powietrzny w xxup s6l . xxmaj pojedyncze węzły chłonne wielkosci do ok . 9 mm przytchawicze . xxmaj stan po złamaniu odc przednich żeber po stronie lewej . xxmaj duże ( odcinkowo ) zmiany zwyrodnieniowo w kręgosłupie piersiowym . xxmaj poza tym : xxmaj płuca prawidłowo powietrzne , bez innych zmian ogniskowych lub strukturalnych . xxmaj struktury śródpiersia</td>\n",
       "      <td>guzek do kontroli</td>\n",
       "    </tr>\n",
       "    <tr>\n",
       "      <th>1</th>\n",
       "      <td>xxbos xxmaj wynik wątpliwy . xxmaj obecność zmian dodatkowych . xxmaj proponowana kontrola za ok . 12 mies . xxmaj wynik wątpliwy . xxmaj obecność zmian dodatkowych . xxmaj proponowana kontrola za ok . 12 mies . xxmaj badanie w ramach npzchn . xxmaj xxunk xxup xxunk / 6p - dwa xxunk guzki wielkosci ok . 5 x 5 x 7 mm i 4 x 4 x 5 mm , owalne , równe zarysy , bez zwapnień , podopłucnowe , xxunk xxup s6p - wielkosci ok . 2 x 2 x 2 mm , okrągły , równe zarysy , bez zwapnień , xxunk xxup s1 / 2l - wielkosci 2 x 2 x 3 mm , okrągły , nieco xxunk , bez zwapnień , xxunk xxup xxunk wielkosci ok . 2 x 2 x 2 mm , okrągły , równe zarysy , bez zwapnień , xxunk xxup xxunk wielkosci ok</td>\n",
       "      <td>guzek do kontroli</td>\n",
       "    </tr>\n",
       "    <tr>\n",
       "      <th>2</th>\n",
       "      <td>xxbos xxmaj guz dolnego xxunk wnęki prawej , do xxunk w xxunk z powiększonymi xxunk xxunk wnęki prawej w xxunk niedodmy , xxunk oskrzele do płat środkowego , oraz do podstawnych segmentów płata dolnego prawego , znacznie xxunk oskrzele do seg . 6 prawego oraz w mniejszym stopniu do płata górnego . w seg . 2 prawym guz o wym . xxunk mm , w seg . 3 o śr . ok 14 mm , poza tym kilka xxunk w płucu prawym . xxmaj płat dolny prawym z xxunk i drobnoguzkowymi zmianami , mogą odpowiadać zalegającej wydzielinie w drogach oddechowych . xxmaj płyn w prawej jamie opłucnowej grubości warstwy do 15 mm przy tylnej ścianie klp . xxmaj guz w xxunk z powiększonymi xxunk xxunk wnęki prawej w xxunk niedodmy , xxunk oskrzele do płat środkowego , oraz do podstawnych segmentów płata dolnego prawego , znacznie xxunk oskrzele do seg</td>\n",
       "      <td>guzek</td>\n",
       "    </tr>\n",
       "    <tr>\n",
       "      <th>3</th>\n",
       "      <td>xxbos w płucach kilka guzków : radiologicznie najbardziej podejrzany w seg . 6 lewym o nierównych obrysach o wym . xxunk mm . xxmaj celowa kontrola za ok 6 miesiące.w płucach kilka guzków : największy xxunk w seg . 6 lewym o nieco nierównych obrysach xxunk konieczna kontrola za ok 6 miesiące . &lt; br &gt; poza tym owalne o dość gładkich obrysach miąższowe guzki : w języczku o wym . 6x5 mm oraz w seg . 8 lewym 6x5mm- czy tylko zalegająca wydzielina w drogach oddechowych ? xxmaj do kontroli.&lt;br &gt; poza tym kilka podopłucnowych guzków- największy w seg . 9 prawym 7x5mm- mogą odpowiadać wewnątrzpłucnym węzłom chłonnym . xxmaj płuca z objawami rozedmy z największym xxunk xxunk w prawym szczycie o wym . 8x6 cm . xxmaj płuca z rozlanym pogrubieniem ścian oskrzeli . &lt; br &gt; w płucach kilka guzków : największy xxunk w seg . 6</td>\n",
       "      <td>guzek do kontroli</td>\n",
       "    </tr>\n",
       "    <tr>\n",
       "      <th>4</th>\n",
       "      <td>xxbos xxmaj guzek z rozpadem w płacie dolnym lewym- onkologicznie podejrzany . xxmaj do xxunk z rozpadem w płacie dolnym lewym w seg . 6 o wym . ok xxunk mm xxunk do szczeliny międzypłatowej skośnej , o pozaciąganych obrysach- onkologicznie podejrzany . xxmaj konieczne pogłębienie diagnostyki . &lt; br &gt; xxunk w seg . 6 lewym drobnoplamiste zagęszczenia . &lt; br &gt; poza tym w obu płucach w płatach górnych oraz w mniejszym stopniu w płacie środkowym liczne guzki ze xxunk największy w seg . 1 prawym o wym . xxunk mm z pasmowatymi zagęszczeniami i drobnymi rozstrzeniami xxunk najpewniej zmiany po tbc . xxmaj guzek z rozpadem w płacie dolnym lewym w seg . 6 o wym . ok xxunk mm xxunk do szczeliny międzypłatowej skośnej , o pozaciąganych obrysach- onkologicznie podejrzany . xxmaj konieczne pogłębienie diagnostyki . &lt; br &gt; poza tym w obu płucach w płatach</td>\n",
       "      <td>guzek</td>\n",
       "    </tr>\n",
       "    <tr>\n",
       "      <th>5</th>\n",
       "      <td>xxbos guzki do kontroli za 6 mies . xxmaj płuca z cechami rozedmy . xxmaj rozlane pogrubienie ścian oskrzeli.&lt;br &gt; w płacie dolnym prawym w segmencie 6 wśród zmian bliznowatych na przebiegu oskrzela nieco nieregularne guzkowe zagęszczenie o wym . ok . 6x7 mm - do kontroli za ok . 6 mies . &lt; br &gt; tuż poniżej podłużny uwapniony guzek o śr . ok . 5 mm . &lt; br &gt; ponadto w płacie górnym prawym kilka nieregularnych guzków , największy podłużny o wym . ok . 6x4 mm w segmencie 2 prawym , obraz może wynikać z zalegania wydzieliny w xxunk - do xxunk &gt; poza tym kilka drobniejszych guzków w płacie górnym prawym do 4 mm , pojedyncze drobne guzki do 3 - 4 mm w płacie górnym lewym , niektóre uwapnione . &lt; br &gt; dyskretne podopłucnowe zmiany siateczkowate w dolnych partiach płuc nad przeponą -</td>\n",
       "      <td>guzek do kontroli</td>\n",
       "    </tr>\n",
       "    <tr>\n",
       "      <th>6</th>\n",
       "      <td>xxbos xxmaj podejrzenie najprawdopodobniej xxunk zmian zapalnych . xxmaj konieczna xxunk płatach górnych , głównie w płacie górnym prawym ogniska zacienień o charakterze matowej szyby , w prawym szczycie nieregularny guzek z niewielkim komponentem litym o wym . xxunk na tym etapie diagnostyki zmiany należy xxunk xxunk zmianami xxunk czy w trakcie badania xxunk cechy xxunk ? xxmaj proces rozrostowy mniej prawdopodobny . xxmaj celowa konsultacja pulmunologiczna i xxunk badanie kontrolne za ok 3 miesiące . w płatach górnych , głównie w płacie górnym prawym ogniska zacienień o charakterze matowej szyby , w prawym szczycie nieregularny guzek z komponentem litym o wym . xxunk na tym etapie diagnostyki zmiany należy xxunk xxunk zmianami xxunk czy w trakcie badania xxunk cechy xxunk ? xxmaj proces rozrostowy mniej prawdopodobny . xxmaj celowa konsultacja pulmunologiczna i xxunk badanie kontrolne za ok 6 miesiące . &lt; br &gt; drobny guzek 4x3 mm w seg</td>\n",
       "      <td>guzek do kontroli</td>\n",
       "    </tr>\n",
       "    <tr>\n",
       "      <th>7</th>\n",
       "      <td>xxbos xxmaj wynik wątpliwy . xxmaj wskazana kontrola xxup tk za ok . 12 mies . xxmaj zmiany xxunk xxup klp bez kontrastu iv . xxmaj badanie wykonano w ramach xxunk : xxunk wielkości 2 x 2 x 3 mm , owalny , lity , równe zarysy , podopłucnowy , bez xxunk wielkości 2 x 2 x 2 mm , okrągły , lity , równe zarysy , miąższowy , bez xxunk / xxunk wielkości 3 x 3 x 3 mm , okrągły , lity , równe zarysy , miąższowy , bez xxunk guzki niespecyficzne , prawdopodobnie bliznowate / pozapalne . xxmaj zmiany xxunk xxunk xxunk typu xxunk xxunk xxunk xxunk xxunk xxunk w segmentach 6 , 9 i 10 obu xxunk podopłucnowe zmiany bliznowate w segm . 10 płuca prawego . xxunk zwapnienia w łuku aorty i tt . wieńcowych . xxunk zmiany zwyrodnieniowe dolnego odc kręgosłupa xxunk xxunk blaszek</td>\n",
       "      <td>guzek do kontroli</td>\n",
       "    </tr>\n",
       "    <tr>\n",
       "      <th>8</th>\n",
       "      <td>xxbos xxmaj wynik wątpliwy . xxmaj wskazana kontrola xxup tk za ok . 12 mies . xxmaj zmiany xxunk xxup klp bez kontrastu xxunk wykonano w ramach xxunk : - w xxup s6p średnicy 3 mm równe zarysy , okragły , bez spiukl , bez zwapnień , podopłucnowy , - w xxup s6p średnicy 2 mm równe zarysy , okragły , bez spiukl , bez zwapnień , podopłucnowy , - w xxup s4p średnicy 3 mm równe zarysy , okragły , bez spiukl , bez zwapnień , xxunk drobne guzki xxunk , prawdopodobnie bliznowate . xxmaj zmiany dodatkowe : xxmaj niewielkie podopłucnowe pasma zmian bliznowatych w segm . 6 i 10 obu płuc . xxmaj xxunk powietrzny wielkosci ok . 11 mm w xxup xxunk / 10l . xxmaj kilka xxunk chłonnych w xxunk xxunk do ok . 10 mm , xxunk xxunk . xxmaj zmiany zwyrodnieniowe kregosłupa . xxmaj</td>\n",
       "      <td>guzek do kontroli</td>\n",
       "    </tr>\n",
       "  </tbody>\n",
       "</table>"
      ],
      "text/plain": [
       "<IPython.core.display.HTML object>"
      ]
     },
     "metadata": {},
     "output_type": "display_data"
    }
   ],
   "source": [
    "dls.show_batch()"
   ]
  },
  {
   "cell_type": "code",
   "execution_count": 30,
   "id": "81ba484f",
   "metadata": {},
   "outputs": [],
   "source": [
    "learn = text_classifier_learner(dls, AWD_LSTM, drop_mult=0.5, metrics=accuracy, pretrained=False)"
   ]
  },
  {
   "cell_type": "code",
   "execution_count": 22,
   "id": "303fbe3f",
   "metadata": {},
   "outputs": [
    {
     "data": {
      "text/html": [
       "\n",
       "<style>\n",
       "    /* Turns off some styling */\n",
       "    progress {\n",
       "        /* gets rid of default border in Firefox and Opera. */\n",
       "        border: none;\n",
       "        /* Needs to be in here for Safari polyfill so background images work as expected. */\n",
       "        background-size: auto;\n",
       "    }\n",
       "    progress:not([value]), progress:not([value])::-webkit-progress-bar {\n",
       "        background: repeating-linear-gradient(45deg, #7e7e7e, #7e7e7e 10px, #5c5c5c 10px, #5c5c5c 20px);\n",
       "    }\n",
       "    .progress-bar-interrupted, .progress-bar-interrupted::-webkit-progress-bar {\n",
       "        background: #F44336;\n",
       "    }\n",
       "</style>\n"
      ],
      "text/plain": [
       "<IPython.core.display.HTML object>"
      ]
     },
     "metadata": {},
     "output_type": "display_data"
    },
    {
     "data": {
      "text/html": [],
      "text/plain": [
       "<IPython.core.display.HTML object>"
      ]
     },
     "metadata": {},
     "output_type": "display_data"
    },
    {
     "data": {
      "text/plain": [
       "SuggestedLRs(valley=0.0030199517495930195)"
      ]
     },
     "execution_count": 22,
     "metadata": {},
     "output_type": "execute_result"
    },
    {
     "data": {
      "image/png": "[encoded data removed]",
      "text/plain": [
       "<Figure size 640x480 with 1 Axes>"
      ]
     },
     "metadata": {},
     "output_type": "display_data"
    }
   ],
   "source": [
    "learn.lr_find()"
   ]
  },
  {
   "cell_type": "code",
   "execution_count": 33,
   "id": "567a49fc",
   "metadata": {},
   "outputs": [],
   "source": [
    "def do_train(epochs, lr):\n",
    "    learn = text_classifier_learner(dls, AWD_LSTM, drop_mult=0.5, metrics=accuracy, pretrained=False)\n",
    "    learn.fine_tune(epochs, lr)\n",
    "    return learn"
   ]
  },
  {
   "cell_type": "code",
   "execution_count": 34,
   "id": "02f9ab11",
   "metadata": {},
   "outputs": [
    {
     "data": {
      "text/html": [
       "\n",
       "<style>\n",
       "    /* Turns off some styling */\n",
       "    progress {\n",
       "        /* gets rid of default border in Firefox and Opera. */\n",
       "        border: none;\n",
       "        /* Needs to be in here for Safari polyfill so background images work as expected. */\n",
       "        background-size: auto;\n",
       "    }\n",
       "    progress:not([value]), progress:not([value])::-webkit-progress-bar {\n",
       "        background: repeating-linear-gradient(45deg, #7e7e7e, #7e7e7e 10px, #5c5c5c 10px, #5c5c5c 20px);\n",
       "    }\n",
       "    .progress-bar-interrupted, .progress-bar-interrupted::-webkit-progress-bar {\n",
       "        background: #F44336;\n",
       "    }\n",
       "</style>\n"
      ],
      "text/plain": [
       "<IPython.core.display.HTML object>"
      ]
     },
     "metadata": {},
     "output_type": "display_data"
    },
    {
     "data": {
      "text/html": [
       "<table border=\"1\" class=\"dataframe\">\n",
       "  <thead>\n",
       "    <tr style=\"text-align: left;\">\n",
       "      <th>epoch</th>\n",
       "      <th>train_loss</th>\n",
       "      <th>valid_loss</th>\n",
       "      <th>accuracy</th>\n",
       "      <th>time</th>\n",
       "    </tr>\n",
       "  </thead>\n",
       "  <tbody>\n",
       "    <tr>\n",
       "      <td>0</td>\n",
       "      <td>1.482859</td>\n",
       "      <td>1.349705</td>\n",
       "      <td>0.442211</td>\n",
       "      <td>00:14</td>\n",
       "    </tr>\n",
       "  </tbody>\n",
       "</table>"
      ],
      "text/plain": [
       "<IPython.core.display.HTML object>"
      ]
     },
     "metadata": {},
     "output_type": "display_data"
    },
    {
     "data": {
      "text/html": [
       "\n",
       "<style>\n",
       "    /* Turns off some styling */\n",
       "    progress {\n",
       "        /* gets rid of default border in Firefox and Opera. */\n",
       "        border: none;\n",
       "        /* Needs to be in here for Safari polyfill so background images work as expected. */\n",
       "        background-size: auto;\n",
       "    }\n",
       "    progress:not([value]), progress:not([value])::-webkit-progress-bar {\n",
       "        background: repeating-linear-gradient(45deg, #7e7e7e, #7e7e7e 10px, #5c5c5c 10px, #5c5c5c 20px);\n",
       "    }\n",
       "    .progress-bar-interrupted, .progress-bar-interrupted::-webkit-progress-bar {\n",
       "        background: #F44336;\n",
       "    }\n",
       "</style>\n"
      ],
      "text/plain": [
       "<IPython.core.display.HTML object>"
      ]
     },
     "metadata": {},
     "output_type": "display_data"
    },
    {
     "data": {
      "text/html": [
       "<table border=\"1\" class=\"dataframe\">\n",
       "  <thead>\n",
       "    <tr style=\"text-align: left;\">\n",
       "      <th>epoch</th>\n",
       "      <th>train_loss</th>\n",
       "      <th>valid_loss</th>\n",
       "      <th>accuracy</th>\n",
       "      <th>time</th>\n",
       "    </tr>\n",
       "  </thead>\n",
       "  <tbody>\n",
       "    <tr>\n",
       "      <td>0</td>\n",
       "      <td>1.342813</td>\n",
       "      <td>1.328949</td>\n",
       "      <td>0.442211</td>\n",
       "      <td>00:44</td>\n",
       "    </tr>\n",
       "    <tr>\n",
       "      <td>1</td>\n",
       "      <td>1.169192</td>\n",
       "      <td>1.074418</td>\n",
       "      <td>0.663317</td>\n",
       "      <td>00:43</td>\n",
       "    </tr>\n",
       "    <tr>\n",
       "      <td>2</td>\n",
       "      <td>0.994578</td>\n",
       "      <td>0.830544</td>\n",
       "      <td>0.809045</td>\n",
       "      <td>00:42</td>\n",
       "    </tr>\n",
       "    <tr>\n",
       "      <td>3</td>\n",
       "      <td>0.845049</td>\n",
       "      <td>0.760566</td>\n",
       "      <td>0.718593</td>\n",
       "      <td>00:43</td>\n",
       "    </tr>\n",
       "    <tr>\n",
       "      <td>4</td>\n",
       "      <td>0.737403</td>\n",
       "      <td>0.575359</td>\n",
       "      <td>0.854271</td>\n",
       "      <td>00:44</td>\n",
       "    </tr>\n",
       "    <tr>\n",
       "      <td>5</td>\n",
       "      <td>0.663742</td>\n",
       "      <td>0.490123</td>\n",
       "      <td>0.869347</td>\n",
       "      <td>00:42</td>\n",
       "    </tr>\n",
       "  </tbody>\n",
       "</table>"
      ],
      "text/plain": [
       "<IPython.core.display.HTML object>"
      ]
     },
     "metadata": {},
     "output_type": "display_data"
    },
    {
     "data": {
      "text/plain": [
       "<fastai.text.learner.TextLearner at 0x7fefc2748550>"
      ]
     },
     "execution_count": 34,
     "metadata": {},
     "output_type": "execute_result"
    }
   ],
   "source": [
    "do_train(6, 1e-2)"
   ]
  },
  {
   "cell_type": "code",
   "execution_count": 36,
   "id": "6cd77f17",
   "metadata": {},
   "outputs": [
    {
     "data": {
      "text/html": [
       "\n",
       "<style>\n",
       "    /* Turns off some styling */\n",
       "    progress {\n",
       "        /* gets rid of default border in Firefox and Opera. */\n",
       "        border: none;\n",
       "        /* Needs to be in here for Safari polyfill so background images work as expected. */\n",
       "        background-size: auto;\n",
       "    }\n",
       "    progress:not([value]), progress:not([value])::-webkit-progress-bar {\n",
       "        background: repeating-linear-gradient(45deg, #7e7e7e, #7e7e7e 10px, #5c5c5c 10px, #5c5c5c 20px);\n",
       "    }\n",
       "    .progress-bar-interrupted, .progress-bar-interrupted::-webkit-progress-bar {\n",
       "        background: #F44336;\n",
       "    }\n",
       "</style>\n"
      ],
      "text/plain": [
       "<IPython.core.display.HTML object>"
      ]
     },
     "metadata": {},
     "output_type": "display_data"
    },
    {
     "data": {
      "text/html": [
       "<table border=\"1\" class=\"dataframe\">\n",
       "  <thead>\n",
       "    <tr style=\"text-align: left;\">\n",
       "      <th>epoch</th>\n",
       "      <th>train_loss</th>\n",
       "      <th>valid_loss</th>\n",
       "      <th>accuracy</th>\n",
       "      <th>time</th>\n",
       "    </tr>\n",
       "  </thead>\n",
       "  <tbody>\n",
       "    <tr>\n",
       "      <td>0</td>\n",
       "      <td>1.496381</td>\n",
       "      <td>1.315346</td>\n",
       "      <td>0.512563</td>\n",
       "      <td>00:13</td>\n",
       "    </tr>\n",
       "  </tbody>\n",
       "</table>"
      ],
      "text/plain": [
       "<IPython.core.display.HTML object>"
      ]
     },
     "metadata": {},
     "output_type": "display_data"
    },
    {
     "data": {
      "text/html": [
       "\n",
       "<style>\n",
       "    /* Turns off some styling */\n",
       "    progress {\n",
       "        /* gets rid of default border in Firefox and Opera. */\n",
       "        border: none;\n",
       "        /* Needs to be in here for Safari polyfill so background images work as expected. */\n",
       "        background-size: auto;\n",
       "    }\n",
       "    progress:not([value]), progress:not([value])::-webkit-progress-bar {\n",
       "        background: repeating-linear-gradient(45deg, #7e7e7e, #7e7e7e 10px, #5c5c5c 10px, #5c5c5c 20px);\n",
       "    }\n",
       "    .progress-bar-interrupted, .progress-bar-interrupted::-webkit-progress-bar {\n",
       "        background: #F44336;\n",
       "    }\n",
       "</style>\n"
      ],
      "text/plain": [
       "<IPython.core.display.HTML object>"
      ]
     },
     "metadata": {},
     "output_type": "display_data"
    },
    {
     "data": {
      "text/html": [
       "<table border=\"1\" class=\"dataframe\">\n",
       "  <thead>\n",
       "    <tr style=\"text-align: left;\">\n",
       "      <th>epoch</th>\n",
       "      <th>train_loss</th>\n",
       "      <th>valid_loss</th>\n",
       "      <th>accuracy</th>\n",
       "      <th>time</th>\n",
       "    </tr>\n",
       "  </thead>\n",
       "  <tbody>\n",
       "    <tr>\n",
       "      <td>0</td>\n",
       "      <td>1.305910</td>\n",
       "      <td>1.294960</td>\n",
       "      <td>0.512563</td>\n",
       "      <td>00:42</td>\n",
       "    </tr>\n",
       "    <tr>\n",
       "      <td>1</td>\n",
       "      <td>1.164663</td>\n",
       "      <td>1.127806</td>\n",
       "      <td>0.512563</td>\n",
       "      <td>00:46</td>\n",
       "    </tr>\n",
       "    <tr>\n",
       "      <td>2</td>\n",
       "      <td>1.012367</td>\n",
       "      <td>0.896785</td>\n",
       "      <td>0.537688</td>\n",
       "      <td>00:42</td>\n",
       "    </tr>\n",
       "    <tr>\n",
       "      <td>3</td>\n",
       "      <td>0.865903</td>\n",
       "      <td>0.723689</td>\n",
       "      <td>0.693467</td>\n",
       "      <td>00:42</td>\n",
       "    </tr>\n",
       "    <tr>\n",
       "      <td>4</td>\n",
       "      <td>0.755327</td>\n",
       "      <td>0.645275</td>\n",
       "      <td>0.713568</td>\n",
       "      <td>00:41</td>\n",
       "    </tr>\n",
       "    <tr>\n",
       "      <td>5</td>\n",
       "      <td>0.662720</td>\n",
       "      <td>0.437815</td>\n",
       "      <td>0.864322</td>\n",
       "      <td>00:41</td>\n",
       "    </tr>\n",
       "    <tr>\n",
       "      <td>6</td>\n",
       "      <td>0.599273</td>\n",
       "      <td>0.455314</td>\n",
       "      <td>0.864322</td>\n",
       "      <td>00:41</td>\n",
       "    </tr>\n",
       "    <tr>\n",
       "      <td>7</td>\n",
       "      <td>0.539583</td>\n",
       "      <td>0.421598</td>\n",
       "      <td>0.884422</td>\n",
       "      <td>00:41</td>\n",
       "    </tr>\n",
       "    <tr>\n",
       "      <td>8</td>\n",
       "      <td>0.490467</td>\n",
       "      <td>0.405866</td>\n",
       "      <td>0.874372</td>\n",
       "      <td>00:42</td>\n",
       "    </tr>\n",
       "    <tr>\n",
       "      <td>9</td>\n",
       "      <td>0.447089</td>\n",
       "      <td>0.398148</td>\n",
       "      <td>0.874372</td>\n",
       "      <td>00:42</td>\n",
       "    </tr>\n",
       "  </tbody>\n",
       "</table>"
      ],
      "text/plain": [
       "<IPython.core.display.HTML object>"
      ]
     },
     "metadata": {},
     "output_type": "display_data"
    },
    {
     "data": {
      "text/plain": [
       "<fastai.text.learner.TextLearner at 0x7fefc2db4ac0>"
      ]
     },
     "execution_count": 36,
     "metadata": {},
     "output_type": "execute_result"
    }
   ],
   "source": [
    "do_train(10, 1e-2)"
   ]
  },
  {
   "cell_type": "markdown",
   "id": "b6804785",
   "metadata": {},
   "source": [
    "### kategoryzacja opisów"
   ]
  },
  {
   "cell_type": "code",
   "execution_count": 24,
   "id": "fa582614",
   "metadata": {},
   "outputs": [
    {
     "data": {
      "text/html": [
       "\n",
       "<style>\n",
       "    /* Turns off some styling */\n",
       "    progress {\n",
       "        /* gets rid of default border in Firefox and Opera. */\n",
       "        border: none;\n",
       "        /* Needs to be in here for Safari polyfill so background images work as expected. */\n",
       "        background-size: auto;\n",
       "    }\n",
       "    progress:not([value]), progress:not([value])::-webkit-progress-bar {\n",
       "        background: repeating-linear-gradient(45deg, #7e7e7e, #7e7e7e 10px, #5c5c5c 10px, #5c5c5c 20px);\n",
       "    }\n",
       "    .progress-bar-interrupted, .progress-bar-interrupted::-webkit-progress-bar {\n",
       "        background: #F44336;\n",
       "    }\n",
       "</style>\n"
      ],
      "text/plain": [
       "<IPython.core.display.HTML object>"
      ]
     },
     "metadata": {},
     "output_type": "display_data"
    },
    {
     "data": {
      "text/html": [],
      "text/plain": [
       "<IPython.core.display.HTML object>"
      ]
     },
     "metadata": {},
     "output_type": "display_data"
    },
    {
     "data": {
      "text/plain": [
       "('do kontroli', tensor(0), tensor([0.6390, 0.1034, 0.1691, 0.0886]))"
      ]
     },
     "execution_count": 24,
     "metadata": {},
     "output_type": "execute_result"
    }
   ],
   "source": [
    "learn.predict(df['opis'].values[0])"
   ]
  }
 ],
 "metadata": {
  "kernelspec": {
   "display_name": "Python 3 (ipykernel)",
   "language": "python",
   "name": "python3"
  },
  "language_info": {
   "codemirror_mode": {
    "name": "ipython",
    "version": 3
   },
   "file_extension": ".py",
   "mimetype": "text/x-python",
   "name": "python",
   "nbconvert_exporter": "python",
   "pygments_lexer": "ipython3",
   "version": "3.9.12"
  }
 },
 "nbformat": 4,
 "nbformat_minor": 5
}
